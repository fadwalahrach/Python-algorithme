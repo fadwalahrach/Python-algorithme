{
 "cells": [
  {
   "cell_type": "markdown",
   "id": "7fd50362",
   "metadata": {},
   "source": [
    "### Q1:Write a Python program for binary search."
   ]
  },
  {
   "cell_type": "code",
   "execution_count": 1,
   "id": "c8171f18",
   "metadata": {},
   "outputs": [
    {
     "data": {
      "text/plain": [
       "False"
      ]
     },
     "execution_count": 1,
     "metadata": {},
     "output_type": "execute_result"
    }
   ],
   "source": [
    "def binary_search(L, low, high, n):\n",
    "    if high >= low:\n",
    "        mid=low+ (high-low)//2\n",
    "        if(n==L[mid]):\n",
    "            return True\n",
    "        elif(n<L[mid]):\n",
    "            return binary_search(L,low,mid-1,n)\n",
    "        else:\n",
    "            return binary_search(L,mid+1,high,n)\n",
    "    else:\n",
    "        return False\n",
    "\n",
    "binary_search([1,2,3,5,8],0,4,6)"
   ]
  },
  {
   "cell_type": "markdown",
   "id": "2fee82b3",
   "metadata": {},
   "source": [
    "### Q2: Write a Python program to calculate the value of 'a' to the power 'b'."
   ]
  },
  {
   "cell_type": "code",
   "execution_count": 6,
   "id": "af1f7154",
   "metadata": {},
   "outputs": [
    {
     "data": {
      "text/plain": [
       "81"
      ]
     },
     "execution_count": 6,
     "metadata": {},
     "output_type": "execute_result"
    }
   ],
   "source": [
    "def power(a,b):\n",
    "    if b==1:\n",
    "        return a\n",
    "    else:\n",
    "        return a*power(a,b-1)\n",
    "    \n",
    "power(3,4)"
   ]
  },
  {
   "cell_type": "markdown",
   "id": "9e0851da",
   "metadata": {},
   "source": [
    "### Q3: Write a Python program to sort a list of elements using the bubble sort algorithm."
   ]
  },
  {
   "cell_type": "code",
   "execution_count": 9,
   "id": "6775e503",
   "metadata": {},
   "outputs": [
    {
     "data": {
      "text/plain": [
       "[13, 22, 29, 37, 46, 49, 52, 56, 71]"
      ]
     },
     "execution_count": 9,
     "metadata": {},
     "output_type": "execute_result"
    }
   ],
   "source": [
    "def bublle_sort(L):\n",
    "    for i in range(len(L)-1, 0, -1):\n",
    "        for j in range(i):\n",
    "            if L[j]>L[j+1]:\n",
    "                tmp=L[j]\n",
    "                L[j]=L[j+1]\n",
    "                L[j+1]=tmp\n",
    "    return L\n",
    "\n",
    "Data= [29,13,22,37,52,49,46,71,56]\n",
    "bublle_sort(Data)"
   ]
  },
  {
   "cell_type": "markdown",
   "id": "4b4a30f8",
   "metadata": {},
   "source": [
    "### Q4: Write a Python program to sort a list of elements using the merge sort algorithm."
   ]
  },
  {
   "cell_type": "code",
   "execution_count": 10,
   "id": "e952858f",
   "metadata": {},
   "outputs": [
    {
     "data": {
      "text/plain": [
       "[13, 22, 29, 37, 46, 49, 52, 56, 71]"
      ]
     },
     "execution_count": 10,
     "metadata": {},
     "output_type": "execute_result"
    }
   ],
   "source": [
    "def merge_sort(L):\n",
    "    if len(L)>1:\n",
    "        m=len(L)//2\n",
    "        left=L[:m]\n",
    "        right=L[m:]\n",
    "        \n",
    "        merge_sort(left)\n",
    "        merge_sort(right)\n",
    "\n",
    "        i = 0\n",
    "        j = 0\n",
    "        k = 0\n",
    "        while i < len(left) and j < len(right):\n",
    "            if left[i] < right[j]:\n",
    "              # The value from the left half has been used\n",
    "              L[k] = left[i]\n",
    "              # Move the iterator forward\n",
    "              i += 1\n",
    "            else:\n",
    "                L[k] = right[j]\n",
    "                j += 1\n",
    "            # Move to the next slot\n",
    "            k += 1\n",
    "\n",
    "        # For all the remaining values\n",
    "        while i < len(left):\n",
    "            L[k] = left[i]\n",
    "            i += 1\n",
    "            k += 1\n",
    "\n",
    "        while j < len(right):\n",
    "            L[k]=right[j]\n",
    "            j += 1\n",
    "            k += 1\n",
    "    return L    \n",
    "    \n",
    "Data= [29,13,22,37,52,49,46,71,56]\n",
    "merge_sort(Data)"
   ]
  },
  {
   "cell_type": "markdown",
   "id": "715291cb",
   "metadata": {},
   "source": [
    "### Q5: Write a Python program to sort a list of elements using the quick sort algorithm."
   ]
  },
  {
   "cell_type": "code",
   "execution_count": 12,
   "id": "acbf4e87",
   "metadata": {},
   "outputs": [
    {
     "data": {
      "text/plain": [
       "[13, 22, 29, 37, 46, 49, 52, 56, 71]"
      ]
     },
     "execution_count": 12,
     "metadata": {},
     "output_type": "execute_result"
    }
   ],
   "source": [
    "def partition(array, start, end):\n",
    "    pivot = array[start]\n",
    "    low = start + 1\n",
    "    high = end\n",
    "    while True:\n",
    "        # If the current value we're looking at is larger than the pivot\n",
    "        # it's in the right place (right side of pivot) and we can move left,\n",
    "        # to the next element.\n",
    "        # We also need to make sure we haven't surpassed the low pointer, since that\n",
    "        # indicates we have already moved all the elements to their correct side of the pivot\n",
    "        while low <= high and array[high] >= pivot:\n",
    "            high = high - 1\n",
    "\n",
    "        # Opposite process of the one above\n",
    "        while low <= high and array[low] <= pivot:\n",
    "            low = low + 1\n",
    "\n",
    "        # We either found a value for both high and low that is out of order\n",
    "        # or low is higher than high, in which case we exit the loop\n",
    "        if low <= high:\n",
    "            array[low], array[high] = array[high], array[low]\n",
    "            # The loop continues\n",
    "        else:\n",
    "            # We exit out of the loop\n",
    "            break\n",
    "    array[start], array[high] = array[high], array[start]\n",
    "    return high\n",
    "\n",
    "def quick_sort(array, start, end):\n",
    "    if start >= end:\n",
    "        return\n",
    "\n",
    "    p = partition(array, start, end)\n",
    "    quick_sort(array, start, p-1)\n",
    "    quick_sort(array, p+1, end)\n",
    "    return array\n",
    "\n",
    "    \n",
    "array= [29,13,22,37,52,49,46,71,56]\n",
    "quick_sort(array, 0, len(array) - 1)"
   ]
  }
 ],
 "metadata": {
  "kernelspec": {
   "display_name": "Python 3 (ipykernel)",
   "language": "python",
   "name": "python3"
  },
  "language_info": {
   "codemirror_mode": {
    "name": "ipython",
    "version": 3
   },
   "file_extension": ".py",
   "mimetype": "text/x-python",
   "name": "python",
   "nbconvert_exporter": "python",
   "pygments_lexer": "ipython3",
   "version": "3.9.7"
  }
 },
 "nbformat": 4,
 "nbformat_minor": 5
}
